{
 "metadata": {
  "language_info": {
   "codemirror_mode": {
    "name": "ipython",
    "version": 3
   },
   "file_extension": ".py",
   "mimetype": "text/x-python",
   "name": "python",
   "nbconvert_exporter": "python",
   "pygments_lexer": "ipython3",
   "version": "3.7.9"
  },
  "orig_nbformat": 2,
  "kernelspec": {
   "name": "python379jvsc74a57bd082d23be61f9b1610034e7982d93608a1b6ff4a6f9be9548b4595d3e127c93075",
   "display_name": "Python 3.7.9 64-bit"
  },
  "metadata": {
   "interpreter": {
    "hash": "82d23be61f9b1610034e7982d93608a1b6ff4a6f9be9548b4595d3e127c93075"
   }
  }
 },
 "nbformat": 4,
 "nbformat_minor": 2,
 "cells": [
  {
   "cell_type": "code",
   "execution_count": 16,
   "metadata": {},
   "outputs": [],
   "source": [
    "from bs4.element import Comment\n",
    "from ksalib.Auth import Auth\n",
    "from ksalib.gaonnuri import *"
   ]
  },
  {
   "cell_type": "code",
   "execution_count": 17,
   "metadata": {},
   "outputs": [
    {
     "output_type": "stream",
     "name": "stdout",
     "text": [
      "Login Succesful\n"
     ]
    }
   ],
   "source": [
    "sangwoo = Auth()\n",
    "sangwoo.gaonnuri_auth(\"ksa19058\",\"19-058\")"
   ]
  },
  {
   "cell_type": "code",
   "execution_count": 18,
   "metadata": {},
   "outputs": [],
   "source": [
    "b = Board(sangwoo,\"http://gaonnuri.ksain.net/xe/board_free\")"
   ]
  },
  {
   "cell_type": "code",
   "execution_count": 19,
   "metadata": {},
   "outputs": [
    {
     "output_type": "execute_result",
     "data": {
      "text/plain": [
       "[<ksalib.gaonnuri.Post at 0x264e026bb88>,\n",
       " <ksalib.gaonnuri.Post at 0x264e026bcc8>,\n",
       " <ksalib.gaonnuri.Post at 0x264e026bc08>,\n",
       " <ksalib.gaonnuri.Post at 0x264e026ba08>,\n",
       " <ksalib.gaonnuri.Post at 0x264e026b808>,\n",
       " <ksalib.gaonnuri.Post at 0x264e026b5c8>,\n",
       " <ksalib.gaonnuri.Post at 0x264e026b408>]"
      ]
     },
     "metadata": {},
     "execution_count": 19
    }
   ],
   "source": [
    "b.posts()"
   ]
  },
  {
   "cell_type": "code",
   "execution_count": 20,
   "metadata": {},
   "outputs": [],
   "source": [
    "p = b.write_post(\"title\",\"content\")"
   ]
  },
  {
   "cell_type": "code",
   "execution_count": 21,
   "metadata": {},
   "outputs": [
    {
     "output_type": "execute_result",
     "data": {
      "text/plain": [
       "'<article><!--BeforeDocument(708433,2416308)--><div class=\"document_708433_2416308 xe_content\">content</div><!--AfterDocument(708433,2416308)--></article>'"
      ]
     },
     "metadata": {},
     "execution_count": 21
    }
   ],
   "source": [
    "p.html()"
   ]
  },
  {
   "cell_type": "code",
   "execution_count": 22,
   "metadata": {},
   "outputs": [
    {
     "output_type": "execute_result",
     "data": {
      "text/plain": [
       "'content\\n\\n'"
      ]
     },
     "metadata": {},
     "execution_count": 22
    }
   ],
   "source": [
    "p.text()"
   ]
  },
  {
   "cell_type": "code",
   "execution_count": 23,
   "metadata": {},
   "outputs": [
    {
     "output_type": "execute_result",
     "data": {
      "text/plain": [
       "{}"
      ]
     },
     "metadata": {},
     "execution_count": 23
    }
   ],
   "source": [
    "p.comment()"
   ]
  },
  {
   "cell_type": "code",
   "execution_count": 24,
   "metadata": {},
   "outputs": [],
   "source": [
    "comment = p.write_comment(\"comment content\")"
   ]
  },
  {
   "cell_type": "code",
   "execution_count": 25,
   "metadata": {},
   "outputs": [
    {
     "output_type": "execute_result",
     "data": {
      "text/plain": [
       "{'708435': {'name': '19-058', 'content': 'comment content'}}"
      ]
     },
     "metadata": {},
     "execution_count": 25
    }
   ],
   "source": [
    "p.comment()"
   ]
  },
  {
   "cell_type": "code",
   "execution_count": 26,
   "metadata": {},
   "outputs": [
    {
     "output_type": "execute_result",
     "data": {
      "text/plain": [
       "'삭제했습니다.'"
      ]
     },
     "metadata": {},
     "execution_count": 26
    }
   ],
   "source": [
    "p.delete_comment(comment)"
   ]
  },
  {
   "cell_type": "code",
   "execution_count": 27,
   "metadata": {},
   "outputs": [
    {
     "output_type": "execute_result",
     "data": {
      "text/plain": [
       "'삭제했습니다.'"
      ]
     },
     "metadata": {},
     "execution_count": 27
    }
   ],
   "source": [
    "b.delete_post(p.link)"
   ]
  },
  {
   "cell_type": "code",
   "execution_count": 28,
   "metadata": {},
   "outputs": [
    {
     "output_type": "stream",
     "name": "stdout",
     "text": [
      "[<ksalib.gaonnuri.Post object at 0x00000264E004B608>, <ksalib.gaonnuri.Post object at 0x00000264E004B748>, <ksalib.gaonnuri.Post object at 0x00000264E004B8C8>, <ksalib.gaonnuri.Post object at 0x00000264E004BA48>, <ksalib.gaonnuri.Post object at 0x00000264E004BBC8>, <ksalib.gaonnuri.Post object at 0x00000264E004BDC8>, <ksalib.gaonnuri.Post object at 0x00000264E004BF08>]\n"
     ]
    }
   ],
   "source": [
    "print(b.posts())"
   ]
  },
  {
   "cell_type": "code",
   "execution_count": null,
   "metadata": {},
   "outputs": [],
   "source": []
  }
 ]
}